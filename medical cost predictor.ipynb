{
 "cells": [
  {
   "cell_type": "markdown",
   "id": "7d630b12",
   "metadata": {},
   "source": [
    "# Medical cost analysis and predictor"
   ]
  },
  {
   "cell_type": "markdown",
   "id": "363e0b06",
   "metadata": {},
   "source": [
    "## In this program, we take a dataset of medical charges, along with the age, sex, bmi, number of children, smoker status, and region of the patient. \n",
    "\n",
    "### We graph the data to find patterns in the distribution of costs. \n",
    "\n",
    "### We create a heatmap to show the correlation between age, sex, bmi, region, smoker status, and medical charges. \n",
    "\n",
    "### finally, we create an interactice interface where you can input your own informaiton and get a prediction of charges. \n",
    "\n"
   ]
  },
  {
   "cell_type": "code",
   "execution_count": 1,
   "id": "ab71e05d",
   "metadata": {},
   "outputs": [
    {
     "data": {
      "text/html": [
       "<div>\n",
       "<style scoped>\n",
       "    .dataframe tbody tr th:only-of-type {\n",
       "        vertical-align: middle;\n",
       "    }\n",
       "\n",
       "    .dataframe tbody tr th {\n",
       "        vertical-align: top;\n",
       "    }\n",
       "\n",
       "    .dataframe thead th {\n",
       "        text-align: right;\n",
       "    }\n",
       "</style>\n",
       "<table border=\"1\" class=\"dataframe\">\n",
       "  <thead>\n",
       "    <tr style=\"text-align: right;\">\n",
       "      <th></th>\n",
       "      <th>age</th>\n",
       "      <th>sex</th>\n",
       "      <th>bmi</th>\n",
       "      <th>children</th>\n",
       "      <th>smoker</th>\n",
       "      <th>region</th>\n",
       "      <th>charges</th>\n",
       "    </tr>\n",
       "  </thead>\n",
       "  <tbody>\n",
       "    <tr>\n",
       "      <th>0</th>\n",
       "      <td>19</td>\n",
       "      <td>female</td>\n",
       "      <td>27.900</td>\n",
       "      <td>0</td>\n",
       "      <td>yes</td>\n",
       "      <td>southwest</td>\n",
       "      <td>16884.92400</td>\n",
       "    </tr>\n",
       "    <tr>\n",
       "      <th>1</th>\n",
       "      <td>18</td>\n",
       "      <td>male</td>\n",
       "      <td>33.770</td>\n",
       "      <td>1</td>\n",
       "      <td>no</td>\n",
       "      <td>southeast</td>\n",
       "      <td>1725.55230</td>\n",
       "    </tr>\n",
       "    <tr>\n",
       "      <th>2</th>\n",
       "      <td>28</td>\n",
       "      <td>male</td>\n",
       "      <td>33.000</td>\n",
       "      <td>3</td>\n",
       "      <td>no</td>\n",
       "      <td>southeast</td>\n",
       "      <td>4449.46200</td>\n",
       "    </tr>\n",
       "    <tr>\n",
       "      <th>3</th>\n",
       "      <td>33</td>\n",
       "      <td>male</td>\n",
       "      <td>22.705</td>\n",
       "      <td>0</td>\n",
       "      <td>no</td>\n",
       "      <td>northwest</td>\n",
       "      <td>21984.47061</td>\n",
       "    </tr>\n",
       "    <tr>\n",
       "      <th>4</th>\n",
       "      <td>32</td>\n",
       "      <td>male</td>\n",
       "      <td>28.880</td>\n",
       "      <td>0</td>\n",
       "      <td>no</td>\n",
       "      <td>northwest</td>\n",
       "      <td>3866.85520</td>\n",
       "    </tr>\n",
       "    <tr>\n",
       "      <th>...</th>\n",
       "      <td>...</td>\n",
       "      <td>...</td>\n",
       "      <td>...</td>\n",
       "      <td>...</td>\n",
       "      <td>...</td>\n",
       "      <td>...</td>\n",
       "      <td>...</td>\n",
       "    </tr>\n",
       "    <tr>\n",
       "      <th>1333</th>\n",
       "      <td>50</td>\n",
       "      <td>male</td>\n",
       "      <td>30.970</td>\n",
       "      <td>3</td>\n",
       "      <td>no</td>\n",
       "      <td>northwest</td>\n",
       "      <td>10600.54830</td>\n",
       "    </tr>\n",
       "    <tr>\n",
       "      <th>1334</th>\n",
       "      <td>18</td>\n",
       "      <td>female</td>\n",
       "      <td>31.920</td>\n",
       "      <td>0</td>\n",
       "      <td>no</td>\n",
       "      <td>northeast</td>\n",
       "      <td>2205.98080</td>\n",
       "    </tr>\n",
       "    <tr>\n",
       "      <th>1335</th>\n",
       "      <td>18</td>\n",
       "      <td>female</td>\n",
       "      <td>36.850</td>\n",
       "      <td>0</td>\n",
       "      <td>no</td>\n",
       "      <td>southeast</td>\n",
       "      <td>1629.83350</td>\n",
       "    </tr>\n",
       "    <tr>\n",
       "      <th>1336</th>\n",
       "      <td>21</td>\n",
       "      <td>female</td>\n",
       "      <td>25.800</td>\n",
       "      <td>0</td>\n",
       "      <td>no</td>\n",
       "      <td>southwest</td>\n",
       "      <td>2007.94500</td>\n",
       "    </tr>\n",
       "    <tr>\n",
       "      <th>1337</th>\n",
       "      <td>61</td>\n",
       "      <td>female</td>\n",
       "      <td>29.070</td>\n",
       "      <td>0</td>\n",
       "      <td>yes</td>\n",
       "      <td>northwest</td>\n",
       "      <td>29141.36030</td>\n",
       "    </tr>\n",
       "  </tbody>\n",
       "</table>\n",
       "<p>1338 rows × 7 columns</p>\n",
       "</div>"
      ],
      "text/plain": [
       "      age     sex     bmi  children smoker     region      charges\n",
       "0      19  female  27.900         0    yes  southwest  16884.92400\n",
       "1      18    male  33.770         1     no  southeast   1725.55230\n",
       "2      28    male  33.000         3     no  southeast   4449.46200\n",
       "3      33    male  22.705         0     no  northwest  21984.47061\n",
       "4      32    male  28.880         0     no  northwest   3866.85520\n",
       "...   ...     ...     ...       ...    ...        ...          ...\n",
       "1333   50    male  30.970         3     no  northwest  10600.54830\n",
       "1334   18  female  31.920         0     no  northeast   2205.98080\n",
       "1335   18  female  36.850         0     no  southeast   1629.83350\n",
       "1336   21  female  25.800         0     no  southwest   2007.94500\n",
       "1337   61  female  29.070         0    yes  northwest  29141.36030\n",
       "\n",
       "[1338 rows x 7 columns]"
      ]
     },
     "execution_count": 1,
     "metadata": {},
     "output_type": "execute_result"
    }
   ],
   "source": [
    "import numpy as np\n",
    "import pandas as pd\n",
    "df= pd.read_csv(\"Insurance.csv\")\n",
    "df"
   ]
  },
  {
   "cell_type": "code",
   "execution_count": 2,
   "id": "e21f143e",
   "metadata": {},
   "outputs": [],
   "source": [
    "import matplotlib.pyplot as plt"
   ]
  },
  {
   "cell_type": "code",
   "execution_count": 3,
   "id": "81fe716b",
   "metadata": {},
   "outputs": [
    {
     "data": {
      "text/html": [
       "<div>\n",
       "<style scoped>\n",
       "    .dataframe tbody tr th:only-of-type {\n",
       "        vertical-align: middle;\n",
       "    }\n",
       "\n",
       "    .dataframe tbody tr th {\n",
       "        vertical-align: top;\n",
       "    }\n",
       "\n",
       "    .dataframe thead th {\n",
       "        text-align: right;\n",
       "    }\n",
       "</style>\n",
       "<table border=\"1\" class=\"dataframe\">\n",
       "  <thead>\n",
       "    <tr style=\"text-align: right;\">\n",
       "      <th></th>\n",
       "      <th>age</th>\n",
       "      <th>bmi</th>\n",
       "      <th>children</th>\n",
       "      <th>charges</th>\n",
       "    </tr>\n",
       "  </thead>\n",
       "  <tbody>\n",
       "    <tr>\n",
       "      <th>count</th>\n",
       "      <td>1338.000000</td>\n",
       "      <td>1338.000000</td>\n",
       "      <td>1338.000000</td>\n",
       "      <td>1338.000000</td>\n",
       "    </tr>\n",
       "    <tr>\n",
       "      <th>mean</th>\n",
       "      <td>39.207025</td>\n",
       "      <td>30.663397</td>\n",
       "      <td>1.094918</td>\n",
       "      <td>13270.422265</td>\n",
       "    </tr>\n",
       "    <tr>\n",
       "      <th>std</th>\n",
       "      <td>14.049960</td>\n",
       "      <td>6.098187</td>\n",
       "      <td>1.205493</td>\n",
       "      <td>12110.011237</td>\n",
       "    </tr>\n",
       "    <tr>\n",
       "      <th>min</th>\n",
       "      <td>18.000000</td>\n",
       "      <td>15.960000</td>\n",
       "      <td>0.000000</td>\n",
       "      <td>1121.873900</td>\n",
       "    </tr>\n",
       "    <tr>\n",
       "      <th>25%</th>\n",
       "      <td>27.000000</td>\n",
       "      <td>26.296250</td>\n",
       "      <td>0.000000</td>\n",
       "      <td>4740.287150</td>\n",
       "    </tr>\n",
       "    <tr>\n",
       "      <th>50%</th>\n",
       "      <td>39.000000</td>\n",
       "      <td>30.400000</td>\n",
       "      <td>1.000000</td>\n",
       "      <td>9382.033000</td>\n",
       "    </tr>\n",
       "    <tr>\n",
       "      <th>75%</th>\n",
       "      <td>51.000000</td>\n",
       "      <td>34.693750</td>\n",
       "      <td>2.000000</td>\n",
       "      <td>16639.912515</td>\n",
       "    </tr>\n",
       "    <tr>\n",
       "      <th>max</th>\n",
       "      <td>64.000000</td>\n",
       "      <td>53.130000</td>\n",
       "      <td>5.000000</td>\n",
       "      <td>63770.428010</td>\n",
       "    </tr>\n",
       "  </tbody>\n",
       "</table>\n",
       "</div>"
      ],
      "text/plain": [
       "               age          bmi     children       charges\n",
       "count  1338.000000  1338.000000  1338.000000   1338.000000\n",
       "mean     39.207025    30.663397     1.094918  13270.422265\n",
       "std      14.049960     6.098187     1.205493  12110.011237\n",
       "min      18.000000    15.960000     0.000000   1121.873900\n",
       "25%      27.000000    26.296250     0.000000   4740.287150\n",
       "50%      39.000000    30.400000     1.000000   9382.033000\n",
       "75%      51.000000    34.693750     2.000000  16639.912515\n",
       "max      64.000000    53.130000     5.000000  63770.428010"
      ]
     },
     "execution_count": 3,
     "metadata": {},
     "output_type": "execute_result"
    }
   ],
   "source": [
    "df.describe()"
   ]
  },
  {
   "cell_type": "code",
   "execution_count": 109,
   "id": "e509f6ab",
   "metadata": {},
   "outputs": [
    {
     "name": "stdout",
     "output_type": "stream",
     "text": [
      "The minimum charge in our set is $1121.8739, and the maximum charge in our set is $63770.42801\n",
      "The mean charge is $13270.422265141257 and the median charge is $9382.033\n"
     ]
    }
   ],
   "source": [
    "max_charge= df[\"charges\"].max()\n",
    "min_charge= df[\"charges\"].min()\n",
    "mean_charge = df[\"charges\"].mean()\n",
    "median_charge = df[\"charges\"].median()\n",
    "print(\"The minimum charge in our set is $\" + str(min_charge) + \", and the maximum charge in our set is $\" + (str(max_charge)))\n",
    "print(\"The mean charge is $\" +str(mean_charge )+ \" and the median charge is $\" + str(median_charge))\n",
    "     "
   ]
  },
  {
   "cell_type": "markdown",
   "id": "97902350",
   "metadata": {},
   "source": [
    "### Most of our patients are nonsmokers."
   ]
  },
  {
   "cell_type": "code",
   "execution_count": 64,
   "id": "2e0133ce",
   "metadata": {},
   "outputs": [
    {
     "data": {
      "text/plain": [
       "Text(0.5, 1.0, 'smokers compared to nonsmokers')"
      ]
     },
     "execution_count": 64,
     "metadata": {},
     "output_type": "execute_result"
    },
    {
     "data": {
      "image/png": "[encoded data removed]",
      "text/plain": [
       "<Figure size 1440x864 with 1 Axes>"
      ]
     },
     "metadata": {},
     "output_type": "display_data"
    }
   ],
   "source": [
    "yes= df[\"smoker\"].loc[(df[\"smoker\"]==\"yes\")].count()\n",
    "\n",
    "no=df[\"smoker\"].loc[(df[\"smoker\"]==\"no\")].count()\n",
    "\n",
    "df_smoke=  pd.DataFrame({'smoker':['smoker', 'nonsmoker'], 'val':[274, 1064]})\n",
    "\n",
    "x = np.array([\"smoker\", \"nonsmoker\"])\n",
    "y = np.array([274, 1064])\n",
    "plt.bar(x,y)\n",
    "plt.title(\"smokers compared to nonsmokers\")"
   ]
  },
  {
   "cell_type": "code",
   "execution_count": 106,
   "id": "01a4ffd2",
   "metadata": {},
   "outputs": [
    {
     "name": "stdout",
     "output_type": "stream",
     "text": [
      "a smoker's costs are on average 3.8 times more than those of a nonsmoker.\n"
     ]
    }
   ],
   "source": [
    "smoker_charges= df.loc[(df[\"smoker\"]==\"yes\")].charges.mean()\n",
    "smoker_charges\n",
    "\n",
    "non_smoker_charges= df.loc[(df[\"smoker\"]==\"no\")].charges.mean()\n",
    "\n",
    "times_greater = round((smoker_charges/non_smoker_charges),2)\n",
    "print( \"a smoker's costs are on average \" + str(times_greater) + \" times more than those of a nonsmoker.\")\n"
   ]
  },
  {
   "cell_type": "markdown",
   "id": "9a5ffbf3",
   "metadata": {},
   "source": [
    "### Smokers have much higher medical bills than nonsmokers."
   ]
  },
  {
   "cell_type": "code",
   "execution_count": 5,
   "id": "4bf9f214",
   "metadata": {},
   "outputs": [
    {
     "data": {
      "text/plain": [
       "southeast    364\n",
       "southwest    325\n",
       "northwest    325\n",
       "northeast    324\n",
       "Name: region, dtype: int64"
      ]
     },
     "execution_count": 5,
     "metadata": {},
     "output_type": "execute_result"
    }
   ],
   "source": [
    "df[\"region\"].value_counts()\n"
   ]
  },
  {
   "cell_type": "code",
   "execution_count": 6,
   "id": "2600a2b6",
   "metadata": {},
   "outputs": [
    {
     "data": {
      "text/plain": [
       "male      676\n",
       "female    662\n",
       "Name: sex, dtype: int64"
      ]
     },
     "execution_count": 6,
     "metadata": {},
     "output_type": "execute_result"
    }
   ],
   "source": [
    "df[\"sex\"].value_counts()"
   ]
  },
  {
   "cell_type": "code",
   "execution_count": 59,
   "id": "0e1c518e",
   "metadata": {},
   "outputs": [
    {
     "data": {
      "text/plain": [
       "Text(0.5, 1.0, 'Distribution of patient ages')"
      ]
     },
     "execution_count": 59,
     "metadata": {},
     "output_type": "execute_result"
    },
    {
     "data": {
      "image/png": "[encoded data removed]",
      "text/plain": [
       "<Figure size 1440x864 with 1 Axes>"
      ]
     },
     "metadata": {},
     "output_type": "display_data"
    }
   ],
   "source": [
    "\n",
    "df['age'].hist()\n",
    "plt.title('Distribution of patient ages')"
   ]
  },
  {
   "cell_type": "code",
   "execution_count": 105,
   "id": "7bf59502",
   "metadata": {},
   "outputs": [
    {
     "data": {
      "text/plain": [
       "Text(0.5, 0, 'charges')"
      ]
     },
     "execution_count": 105,
     "metadata": {},
     "output_type": "execute_result"
    },
    {
     "data": {
      "image/png": "[encoded data removed]",
      "text/plain": [
       "<Figure size 1440x864 with 1 Axes>"
      ]
     },
     "metadata": {},
     "output_type": "display_data"
    }
   ],
   "source": [
    "df['charges'].hist(bins= 20)\n",
    "plt.title('Distribution of charges')\n",
    "plt.xlabel(\"charges\")\n"
   ]
  },
  {
   "cell_type": "code",
   "execution_count": 61,
   "id": "709b895c",
   "metadata": {},
   "outputs": [
    {
     "data": {
      "text/plain": [
       "Text(0.5, 1.0, 'distribution of number of children patients have')"
      ]
     },
     "execution_count": 61,
     "metadata": {},
     "output_type": "execute_result"
    },
    {
     "data": {
      "image/png": "[encoded data removed]",
      "text/plain": [
       "<Figure size 1440x864 with 1 Axes>"
      ]
     },
     "metadata": {},
     "output_type": "display_data"
    }
   ],
   "source": [
    "df['children'].hist()\n",
    "plt.title('distribution of number of children patients have')"
   ]
  },
  {
   "cell_type": "code",
   "execution_count": 84,
   "id": "963e42cf",
   "metadata": {},
   "outputs": [
    {
     "name": "stdout",
     "output_type": "stream",
     "text": [
      "The average cost in the northeast is $13406.38\n",
      "The average cost in the southeast is $14735.41\n",
      "The average cost in the northwest is $12417.58\n",
      "The average cost in the southwest is $12346.94\n"
     ]
    }
   ],
   "source": [
    "regions= [\"northeast\", \"southeast\", \"northwest\", \"southwest\"]\n",
    "for r in regions:\n",
    "    region_charges = df.loc[(df[\"region\"]==r)]\n",
    "    means= region_charges[\"charges\"].mean()\n",
    "    means= round(means,2)\n",
    "    print(\"The average cost in the \" + str(r) + \" is $\" + str(means))"
   ]
  },
  {
   "cell_type": "code",
   "execution_count": 87,
   "id": "c0248446",
   "metadata": {},
   "outputs": [
    {
     "data": {
      "image/png": "[encoded data removed]",
      "text/plain": [
       "<Figure size 720x360 with 1 Axes>"
      ]
     },
     "metadata": {},
     "output_type": "display_data"
    }
   ],
   "source": [
    "data = {'northeast':13406.38, 'southeast':14735.41, 'northwest':12417.58,\n",
    "        'southwest':12346.94}\n",
    "\n",
    "\n",
    "regions = list(data.keys())\n",
    "values = list(data.values())\n",
    "  \n",
    "fig = plt.figure(figsize = (10, 5))\n",
    " \n",
    "plt.bar(regions, values, color ='teal',\n",
    "        width = 0.4)\n",
    " \n",
    "plt.xlabel(\"regions\")\n",
    "plt.ylabel(\"average cost\")\n",
    "plt.title(\"average cost by region\")\n",
    "plt.show()"
   ]
  },
  {
   "cell_type": "code",
   "execution_count": 11,
   "id": "5ab3a128",
   "metadata": {},
   "outputs": [],
   "source": [
    "import seaborn as sns"
   ]
  },
  {
   "cell_type": "code",
   "execution_count": 12,
   "id": "67a5df37",
   "metadata": {},
   "outputs": [
    {
     "data": {
      "text/html": [
       "<div>\n",
       "<style scoped>\n",
       "    .dataframe tbody tr th:only-of-type {\n",
       "        vertical-align: middle;\n",
       "    }\n",
       "\n",
       "    .dataframe tbody tr th {\n",
       "        vertical-align: top;\n",
       "    }\n",
       "\n",
       "    .dataframe thead th {\n",
       "        text-align: right;\n",
       "    }\n",
       "</style>\n",
       "<table border=\"1\" class=\"dataframe\">\n",
       "  <thead>\n",
       "    <tr style=\"text-align: right;\">\n",
       "      <th></th>\n",
       "      <th>age</th>\n",
       "      <th>bmi</th>\n",
       "      <th>children</th>\n",
       "      <th>charges</th>\n",
       "      <th>sex_female</th>\n",
       "      <th>sex_male</th>\n",
       "      <th>smoker_no</th>\n",
       "      <th>smoker_yes</th>\n",
       "      <th>region_northeast</th>\n",
       "      <th>region_northwest</th>\n",
       "      <th>region_southeast</th>\n",
       "      <th>region_southwest</th>\n",
       "    </tr>\n",
       "  </thead>\n",
       "  <tbody>\n",
       "    <tr>\n",
       "      <th>0</th>\n",
       "      <td>19</td>\n",
       "      <td>27.900</td>\n",
       "      <td>0</td>\n",
       "      <td>16884.92400</td>\n",
       "      <td>1</td>\n",
       "      <td>0</td>\n",
       "      <td>0</td>\n",
       "      <td>1</td>\n",
       "      <td>0</td>\n",
       "      <td>0</td>\n",
       "      <td>0</td>\n",
       "      <td>1</td>\n",
       "    </tr>\n",
       "    <tr>\n",
       "      <th>1</th>\n",
       "      <td>18</td>\n",
       "      <td>33.770</td>\n",
       "      <td>1</td>\n",
       "      <td>1725.55230</td>\n",
       "      <td>0</td>\n",
       "      <td>1</td>\n",
       "      <td>1</td>\n",
       "      <td>0</td>\n",
       "      <td>0</td>\n",
       "      <td>0</td>\n",
       "      <td>1</td>\n",
       "      <td>0</td>\n",
       "    </tr>\n",
       "    <tr>\n",
       "      <th>2</th>\n",
       "      <td>28</td>\n",
       "      <td>33.000</td>\n",
       "      <td>3</td>\n",
       "      <td>4449.46200</td>\n",
       "      <td>0</td>\n",
       "      <td>1</td>\n",
       "      <td>1</td>\n",
       "      <td>0</td>\n",
       "      <td>0</td>\n",
       "      <td>0</td>\n",
       "      <td>1</td>\n",
       "      <td>0</td>\n",
       "    </tr>\n",
       "    <tr>\n",
       "      <th>3</th>\n",
       "      <td>33</td>\n",
       "      <td>22.705</td>\n",
       "      <td>0</td>\n",
       "      <td>21984.47061</td>\n",
       "      <td>0</td>\n",
       "      <td>1</td>\n",
       "      <td>1</td>\n",
       "      <td>0</td>\n",
       "      <td>0</td>\n",
       "      <td>1</td>\n",
       "      <td>0</td>\n",
       "      <td>0</td>\n",
       "    </tr>\n",
       "    <tr>\n",
       "      <th>4</th>\n",
       "      <td>32</td>\n",
       "      <td>28.880</td>\n",
       "      <td>0</td>\n",
       "      <td>3866.85520</td>\n",
       "      <td>0</td>\n",
       "      <td>1</td>\n",
       "      <td>1</td>\n",
       "      <td>0</td>\n",
       "      <td>0</td>\n",
       "      <td>1</td>\n",
       "      <td>0</td>\n",
       "      <td>0</td>\n",
       "    </tr>\n",
       "    <tr>\n",
       "      <th>...</th>\n",
       "      <td>...</td>\n",
       "      <td>...</td>\n",
       "      <td>...</td>\n",
       "      <td>...</td>\n",
       "      <td>...</td>\n",
       "      <td>...</td>\n",
       "      <td>...</td>\n",
       "      <td>...</td>\n",
       "      <td>...</td>\n",
       "      <td>...</td>\n",
       "      <td>...</td>\n",
       "      <td>...</td>\n",
       "    </tr>\n",
       "    <tr>\n",
       "      <th>1333</th>\n",
       "      <td>50</td>\n",
       "      <td>30.970</td>\n",
       "      <td>3</td>\n",
       "      <td>10600.54830</td>\n",
       "      <td>0</td>\n",
       "      <td>1</td>\n",
       "      <td>1</td>\n",
       "      <td>0</td>\n",
       "      <td>0</td>\n",
       "      <td>1</td>\n",
       "      <td>0</td>\n",
       "      <td>0</td>\n",
       "    </tr>\n",
       "    <tr>\n",
       "      <th>1334</th>\n",
       "      <td>18</td>\n",
       "      <td>31.920</td>\n",
       "      <td>0</td>\n",
       "      <td>2205.98080</td>\n",
       "      <td>1</td>\n",
       "      <td>0</td>\n",
       "      <td>1</td>\n",
       "      <td>0</td>\n",
       "      <td>1</td>\n",
       "      <td>0</td>\n",
       "      <td>0</td>\n",
       "      <td>0</td>\n",
       "    </tr>\n",
       "    <tr>\n",
       "      <th>1335</th>\n",
       "      <td>18</td>\n",
       "      <td>36.850</td>\n",
       "      <td>0</td>\n",
       "      <td>1629.83350</td>\n",
       "      <td>1</td>\n",
       "      <td>0</td>\n",
       "      <td>1</td>\n",
       "      <td>0</td>\n",
       "      <td>0</td>\n",
       "      <td>0</td>\n",
       "      <td>1</td>\n",
       "      <td>0</td>\n",
       "    </tr>\n",
       "    <tr>\n",
       "      <th>1336</th>\n",
       "      <td>21</td>\n",
       "      <td>25.800</td>\n",
       "      <td>0</td>\n",
       "      <td>2007.94500</td>\n",
       "      <td>1</td>\n",
       "      <td>0</td>\n",
       "      <td>1</td>\n",
       "      <td>0</td>\n",
       "      <td>0</td>\n",
       "      <td>0</td>\n",
       "      <td>0</td>\n",
       "      <td>1</td>\n",
       "    </tr>\n",
       "    <tr>\n",
       "      <th>1337</th>\n",
       "      <td>61</td>\n",
       "      <td>29.070</td>\n",
       "      <td>0</td>\n",
       "      <td>29141.36030</td>\n",
       "      <td>1</td>\n",
       "      <td>0</td>\n",
       "      <td>0</td>\n",
       "      <td>1</td>\n",
       "      <td>0</td>\n",
       "      <td>1</td>\n",
       "      <td>0</td>\n",
       "      <td>0</td>\n",
       "    </tr>\n",
       "  </tbody>\n",
       "</table>\n",
       "<p>1338 rows × 12 columns</p>\n",
       "</div>"
      ],
      "text/plain": [
       "      age     bmi  children      charges  sex_female  sex_male  smoker_no  \\\n",
       "0      19  27.900         0  16884.92400           1         0          0   \n",
       "1      18  33.770         1   1725.55230           0         1          1   \n",
       "2      28  33.000         3   4449.46200           0         1          1   \n",
       "3      33  22.705         0  21984.47061           0         1          1   \n",
       "4      32  28.880         0   3866.85520           0         1          1   \n",
       "...   ...     ...       ...          ...         ...       ...        ...   \n",
       "1333   50  30.970         3  10600.54830           0         1          1   \n",
       "1334   18  31.920         0   2205.98080           1         0          1   \n",
       "1335   18  36.850         0   1629.83350           1         0          1   \n",
       "1336   21  25.800         0   2007.94500           1         0          1   \n",
       "1337   61  29.070         0  29141.36030           1         0          0   \n",
       "\n",
       "      smoker_yes  region_northeast  region_northwest  region_southeast  \\\n",
       "0              1                 0                 0                 0   \n",
       "1              0                 0                 0                 1   \n",
       "2              0                 0                 0                 1   \n",
       "3              0                 0                 1                 0   \n",
       "4              0                 0                 1                 0   \n",
       "...          ...               ...               ...               ...   \n",
       "1333           0                 0                 1                 0   \n",
       "1334           0                 1                 0                 0   \n",
       "1335           0                 0                 0                 1   \n",
       "1336           0                 0                 0                 0   \n",
       "1337           1                 0                 1                 0   \n",
       "\n",
       "      region_southwest  \n",
       "0                    1  \n",
       "1                    0  \n",
       "2                    0  \n",
       "3                    0  \n",
       "4                    0  \n",
       "...                ...  \n",
       "1333                 0  \n",
       "1334                 0  \n",
       "1335                 0  \n",
       "1336                 1  \n",
       "1337                 0  \n",
       "\n",
       "[1338 rows x 12 columns]"
      ]
     },
     "execution_count": 12,
     "metadata": {},
     "output_type": "execute_result"
    }
   ],
   "source": [
    "df_dummies = pd.get_dummies(df)\n",
    "df_dummies"
   ]
  },
  {
   "cell_type": "code",
   "execution_count": 14,
   "id": "552387e4",
   "metadata": {},
   "outputs": [
    {
     "data": {
      "image/png": "[encoded data removed]",
      "text/plain": [
       "<Figure size 1440x864 with 2 Axes>"
      ]
     },
     "metadata": {},
     "output_type": "display_data"
    }
   ],
   "source": [
    "df_dummies_pearson = df_dummies.corr(method='pearson')\n",
    "sns.set(rc = {'figure.figsize':(20, 12)})\n",
    "go=sns.heatmap(df_dummies_pearson, annot=True, cmap=\"YlGnBu\")\n",
    "\n",
    "ax = go"
   ]
  },
  {
   "cell_type": "markdown",
   "id": "b2008a04",
   "metadata": {},
   "source": [
    "## smoking, age and bmi are correlated with cost"
   ]
  },
  {
   "cell_type": "code",
   "execution_count": 23,
   "id": "fddda8a0",
   "metadata": {},
   "outputs": [
    {
     "data": {
      "text/plain": [
       "12569.57884383534"
      ]
     },
     "execution_count": 23,
     "metadata": {},
     "output_type": "execute_result"
    }
   ],
   "source": [
    "female_charges =  df.loc[(df[\"sex\"]==\"female\")].charges.mean()\n",
    "female_charges"
   ]
  },
  {
   "cell_type": "code",
   "execution_count": 24,
   "id": "a0022037",
   "metadata": {},
   "outputs": [
    {
     "data": {
      "text/plain": [
       "13956.751177721886"
      ]
     },
     "execution_count": 24,
     "metadata": {},
     "output_type": "execute_result"
    }
   ],
   "source": [
    "male_charges =  df.loc[(df[\"sex\"]==\"male\")].charges.mean()\n",
    "male_charges"
   ]
  },
  {
   "cell_type": "code",
   "execution_count": 25,
   "id": "ce0957c2",
   "metadata": {},
   "outputs": [
    {
     "name": "stdout",
     "output_type": "stream",
     "text": [
      "a man's costs are on average 1.11 times more than those of a woman.\n"
     ]
    }
   ],
   "source": [
    "times_greater_gender = round((male_charges/female_charges),2)\n",
    "print( \"a man's costs are on average \" + str(times_greater_gender) + \" times more than those of a woman.\")\n",
    "\n"
   ]
  },
  {
   "cell_type": "code",
   "execution_count": 27,
   "id": "a2d1e4a1",
   "metadata": {},
   "outputs": [
    {
     "name": "stdout",
     "output_type": "stream",
     "text": [
      "People over sixty pay on average 2.31 times more than people under 29.\n"
     ]
    }
   ],
   "source": [
    "old_charge= df.loc[(df[\"age\"]>=60)].charges.mean()\n",
    "\n",
    "young_charge= df.loc[(df[\"age\"]<=29)].charges.mean()\n",
    "\n",
    "age_charge= round((old_charge/young_charge), 2)\n",
    "print(\"People over sixty pay on average \" + str(age_charge) + \" times more than people under 29.\")"
   ]
  },
  {
   "cell_type": "code",
   "execution_count": 31,
   "id": "a90ac91e",
   "metadata": {},
   "outputs": [
    {
     "data": {
      "text/plain": [
       "16953.82361816456"
      ]
     },
     "execution_count": 31,
     "metadata": {},
     "output_type": "execute_result"
    }
   ],
   "source": [
    "big_charge= df.loc[(df[\"bmi\"]>=35)].charges.mean()\n",
    "big_charge"
   ]
  },
  {
   "cell_type": "code",
   "execution_count": 30,
   "id": "ddcc9acd",
   "metadata": {},
   "outputs": [
    {
     "data": {
      "text/plain": [
       "8838.561135121954"
      ]
     },
     "execution_count": 30,
     "metadata": {},
     "output_type": "execute_result"
    }
   ],
   "source": [
    "little_charge= df.loc[(df[\"bmi\"]<20)].charges.mean()\n",
    "little_charge "
   ]
  },
  {
   "cell_type": "code",
   "execution_count": 32,
   "id": "07e722e3",
   "metadata": {},
   "outputs": [
    {
     "name": "stdout",
     "output_type": "stream",
     "text": [
      "People with the highest bmi pay on average 1.92 times more than people with the lowest bmi.\n"
     ]
    }
   ],
   "source": [
    "bmi_charge= round((big_charge/little_charge), 2)\n",
    "print(\"People with the highest bmi pay on average \" + str(bmi_charge) + \" times more than people with the lowest bmi.\")\n",
    "\n"
   ]
  },
  {
   "cell_type": "code",
   "execution_count": 34,
   "id": "658e0057",
   "metadata": {},
   "outputs": [],
   "source": [
    "from sklearn import linear_model"
   ]
  },
  {
   "cell_type": "code",
   "execution_count": 35,
   "id": "dda845eb",
   "metadata": {},
   "outputs": [],
   "source": [
    "df[\"region_code\"]=np.where (df[\"region\"]==\"southeast\", 1, \n",
    "    np.where(df[\"region\"]==\"northeast\", 2,\n",
    "            np.where(df[\"region\"]==\"southwest\", 3,\n",
    "                    np.where(df[\"region\"]==\"northwest\", 4, 0))))\n"
   ]
  },
  {
   "cell_type": "code",
   "execution_count": 36,
   "id": "b3b03076",
   "metadata": {},
   "outputs": [],
   "source": [
    "df[\"smoker_code\"]=np.where (df[\"smoker\"]==\"yes\", 1, \n",
    "    np.where(df[\"smoker\"]==\"no\", 0,2))\n"
   ]
  },
  {
   "cell_type": "code",
   "execution_count": 37,
   "id": "9df24852",
   "metadata": {},
   "outputs": [],
   "source": [
    "df[\"gender_code\"]=np.where (df[\"sex\"]==\"female\", 1, \n",
    "    np.where(df[\"sex\"]==\"male\", 0,2))\n"
   ]
  },
  {
   "cell_type": "code",
   "execution_count": 38,
   "id": "99f9f483",
   "metadata": {},
   "outputs": [
    {
     "data": {
      "text/plain": [
       "array([23742.4724074])"
      ]
     },
     "execution_count": 38,
     "metadata": {},
     "output_type": "execute_result"
    }
   ],
   "source": [
    "x = df[[\"smoker_code\", \"gender_code\",\"children\",\"bmi\",  \"region_code\",  \"age\"]]\n",
    "y = df[\"charges\"]\n",
    "\n",
    "regr = linear_model.LinearRegression()\n",
    "regr.fit(x, y)\n",
    "\n",
    "\n",
    "predicted_price= regr.predict([[1,1,2,3,1,40]])\n",
    "predicted_price"
   ]
  },
  {
   "cell_type": "markdown",
   "id": "3389b5a0",
   "metadata": {},
   "source": [
    "## Run the following code to input your informaton and get an estimated cost"
   ]
  },
  {
   "cell_type": "code",
   "execution_count": 54,
   "id": "3d3c52d5",
   "metadata": {},
   "outputs": [
    {
     "name": "stdout",
     "output_type": "stream",
     "text": [
      "Do you smoke? no\n",
      "Are you male or female? male\n",
      "how many children do you have? 1\n",
      "do you know your bmi? no\n",
      "what is your height in inches? 70\n",
      "what is your weight in pounds? 200\n",
      "your bmi is 28.69\n",
      "Where do you live: northeast, northwest, southest, or southwest?southwest\n",
      "how old are you? 57\n",
      "[0, 0, 1, 28.69, 3, 57]\n",
      "Your estimated price is $12273.38\n"
     ]
    }
   ],
   "source": [
    "listy = []\n",
    "smoke= input(\"Do you smoke? \")\n",
    "if smoke ==\"yes\":\n",
    "    listy.append(1)\n",
    "else: \n",
    "    listy.append(0)\n",
    "gender= input(\"Are you male or female? \")\n",
    "if gender ==\"female\":\n",
    "    listy.append(1)\n",
    "else: \n",
    "    listy.append(0)\n",
    "children= input(\"how many children do you have? \")\n",
    "children= int(children)\n",
    "listy.append(children)\n",
    "\n",
    "know_bmi= input(\"do you know your bmi? \")\n",
    "if know_bmi==\"no\":\n",
    "    height= input(\"what is your height in inches? \")\n",
    "    height= int(height)\n",
    "    weight = input(\"what is your weight in pounds? \")\n",
    "    weight= int(weight)\n",
    "    bmi= round(float((weight / height ** 2)*703),2)\n",
    "    print(\"your bmi is \" + str(bmi))\n",
    "else: \n",
    "    bmi= input(\"what is your bmi? \")\n",
    "    bmi=float(bmi)\n",
    "listy.append(bmi)\n",
    "\n",
    "region= input(\"Where do you live: northeast, northwest, southest, or southwest?\")\n",
    "\n",
    "if region == \"northeast\": \n",
    "    listy.append(2)\n",
    "elif region == \"northwest\":\n",
    "    listy.append(4)\n",
    "elif region ==\"southwest\":\n",
    "    listy.append(3)\n",
    "elif region== \"southeast\":\n",
    "    listy.append(1)\n",
    "else:\n",
    "    listy.append(0)\n",
    "    \n",
    "age= input(\"how old are you? \")\n",
    "age= int(age)\n",
    "listy.append(age)\n",
    "    \n",
    "print(listy)\n",
    "\n",
    "predicted_price= regr.predict([listy])\n",
    "\n",
    "price= predicted_price[0]\n",
    "price= round(price,2)\n",
    "print( \"Your estimated price is $\" + str(price))"
   ]
  }
 ],
 "metadata": {
  "kernelspec": {
   "display_name": "Python 3 (ipykernel)",
   "language": "python",
   "name": "python3"
  },
  "language_info": {
   "codemirror_mode": {
    "name": "ipython",
    "version": 3
   },
   "file_extension": ".py",
   "mimetype": "text/x-python",
   "name": "python",
   "nbconvert_exporter": "python",
   "pygments_lexer": "ipython3",
   "version": "3.9.7"
  }
 },
 "nbformat": 4,
 "nbformat_minor": 5
}
